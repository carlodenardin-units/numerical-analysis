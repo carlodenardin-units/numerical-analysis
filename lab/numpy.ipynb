{
 "cells": [
  {
   "cell_type": "markdown",
   "metadata": {},
   "source": [
    "# Numpy\n",
    "A numpy object is a multidimensional array composed by elements of the same type. The index starts from 0. Each dimension of the array is called axis. The type of the array is ndarray and the most used attributs are:\n",
    "- ndim: number of axes\n",
    "- shape: tuple of integers indicating the size of the array in each dimension\n",
    "- size: total number of elements of the array"
   ]
  },
  {
   "cell_type": "code",
   "execution_count": null,
   "metadata": {},
   "outputs": [],
   "source": [
    "import numpy as np\n",
    "\n",
    "a = np.array([[6, 7, 8], [1, 2, 3]])\n",
    "print(f\"Dimension: {a.ndim}\\nShape: {a.shape}\\nSize: {a.size}\")"
   ]
  },
  {
   "cell_type": "markdown",
   "metadata": {},
   "source": [
    "## Common functions\n",
    "A frequent error consists in calling array with multiple numeric arguments `np.array(1, 2, 3, 4)` (wrong). Remeber to put the squared brackets.\n",
    "There are some useful functions:\n",
    "- `np.zeros`: creates an array full of zeros\n",
    "- `np.ones`: creates an array full of ones\n",
    "- `np.arange`: creates a sequences of numbers analogous to the range"
   ]
  },
  {
   "cell_type": "code",
   "execution_count": null,
   "metadata": {},
   "outputs": [],
   "source": [
    "# a = np.array(1, 2, 3, 4) WRONG! Remember squared brackets\n",
    "\n",
    "a = np.zeros((3, 4))\n",
    "print(f\"array: {a}, dimension: {a.ndim}, shape: {a.shape}, size: {a.size}\")\n",
    "\n",
    "b = np.ones((2, 3, 4), dtype = np.int16)\n",
    "print(f\"array: {b}, dimension: {b.ndim}, shape: {b.shape}, size: {b.size}\")\n",
    "\n",
    "c = np.arange(3, 20, 4)\n",
    "print(f\"array: {c}\")\n",
    "\n",
    "d = np.arange(0, 2, 0.3)\n",
    "print(f\"array: {d}\")"
   ]
  },
  {
   "cell_type": "markdown",
   "metadata": {},
   "source": [
    "## Unary operations\n",
    "There are other useful methods such as unary operations:\n",
    "- `np.random.random((2, 3))`: give an array of random 2x3\n",
    "- `a.sum()`: returns the sum of the elements of the array\n",
    "- `a.min()`: returns the min of the array\n",
    "- `a.max()`: returns the max of the array\n",
    "- `b.np.arange(12).reshape((3, 4))`: create an array composed by the sequence 1-12 and reshape it in a dimension 3x4 (attention to the dimension)\n",
    "- `b.min(axis = 1)`: returns the minimum elements considering the axis"
   ]
  },
  {
   "cell_type": "code",
   "execution_count": null,
   "metadata": {},
   "outputs": [],
   "source": [
    "a = np.random.random((2, 3))\n",
    "print(f\"array: {a}, sum: {a.sum()}, min: {a.min()}, max: {a.max()}\")\n",
    "\n",
    "b = np.arange(12).reshape((3, 4))\n",
    "print(f\"array: {b}, min: {b.min(axis = 1)}\")\n",
    "\n",
    "c = np.array([[0, 0, 1], [3, 1, 5], [6, 7, 8]])\n",
    "print(f\"array: {c}, min: {c.min(axis = 1)}\")"
   ]
  },
  {
   "cell_type": "markdown",
   "metadata": {},
   "source": [
    "## Access elements\n",
    "To access elements is possible to use the `[]` operator or slicing techniques:\n",
    "- `a[3]`: returns the element in position 3 of the array\n",
    "- `a[2:5]`: returns the elements from index 2 to 5 (not included)\n",
    "- `a[:6:2]`: returns the element from index 2 to 6 with steps of 2\n",
    "- `a[::-1]`: returns the array in reversed order\n",
    "There are also slicing techniques for multidimensional array:\n",
    "- `b[2, 3]`: returns the element in position the second row and third colum\n",
    "- `b[:3, 1]`: returns the element of the second column\n",
    "- `b[1:3, :]`: returns the second and third row\n",
    "- `b[-1]`: returns the last row (equivalent to `b[-1, :]`)"
   ]
  },
  {
   "cell_type": "code",
   "execution_count": null,
   "metadata": {},
   "outputs": [],
   "source": [
    "a = np.arange(12)**2\n",
    "print(f\"array: {a}\\na[3]: {a[3]}\\na[2:5]: {a[2:5]}\\na[:6:2]: {a[:6:2]}\\na[::-1]: {a[::-1]}\\n\")\n",
    "\n",
    "b = a.reshape((3, 4))\n",
    "print(f\"array: {b}\\nb[2, 3]: {b[2, 3]}\\nb[:3, 1]: {b[:3, 1]}\\nb[1:3, :]: {b[1:3, :]}\\nb[-1]: {b[-1]}\")"
   ]
  },
  {
   "cell_type": "markdown",
   "metadata": {},
   "source": [
    "## Shape manipulation\n",
    "The shape of an array can be changed without change the original array:\n",
    "- `a.ravel()`: returns a flatten version of the array\n",
    "- `a.reshape((6, 2))`: returns the array with a modified shape (pay attention to corrects shape)\n",
    "- `a.T`: return the transposed array\n",
    "- `a.resize((2, 6))`: modifies the array itself (not equal to reshape)"
   ]
  },
  {
   "cell_type": "code",
   "execution_count": null,
   "metadata": {},
   "outputs": [],
   "source": [
    "a = np.floor(10 * np.random.random((3, 4)))\n",
    "\n",
    "print(f\"array: {a}\\nravel: {a.ravel()}\\nreshape((6,2)): {a.reshape((6, 2))}\\ntransposed: {a.T}\\nresize((2, 6)): {a.resize((6, 2))}\")"
   ]
  },
  {
   "cell_type": "markdown",
   "metadata": {},
   "source": [
    "## Basic Operations\n",
    "Arithmetic operators on arrays apply elementwise. A new array is created and filled with the result:\n",
    "- `c = a - b`: returns the minus elementwise operation\n",
    "- `b**2`: retirm the power of 2 for each element of the array\n",
    "- `a < 35`: return for each element `True` or `False`\n",
    "Some operations act in place to modify an existing array rather than create a new one:\n",
    "- `a *= 3`: modifies the current array with each element multiplied by 3"
   ]
  },
  {
   "cell_type": "code",
   "execution_count": null,
   "metadata": {},
   "outputs": [],
   "source": [
    "a = np.arange(3)**2\n",
    "b = np.arange(3, 6)**2\n",
    "\n",
    "print(f\"array a: {a}\\narray b: {b}\\nc = a - b: {a - b}\\nb**2: {b**2}\\na < 35: {a < 35}\\na *= 3: {a * 3}\")"
   ]
  }
 ],
 "metadata": {
  "kernelspec": {
   "display_name": "numerical-analysis",
   "language": "python",
   "name": "python3"
  },
  "language_info": {
   "codemirror_mode": {
    "name": "ipython",
    "version": 3
   },
   "file_extension": ".py",
   "mimetype": "text/x-python",
   "name": "python",
   "nbconvert_exporter": "python",
   "pygments_lexer": "ipython3",
   "version": "3.9.18"
  }
 },
 "nbformat": 4,
 "nbformat_minor": 2
}
