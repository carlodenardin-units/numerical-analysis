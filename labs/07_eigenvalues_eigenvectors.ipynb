{
 "cells": [
  {
   "cell_type": "code",
   "execution_count": 1,
   "metadata": {},
   "outputs": [],
   "source": [
    "from numpy import *"
   ]
  },
  {
   "cell_type": "markdown",
   "metadata": {},
   "source": [
    "# EigenValues & EigenVectors\n",
    "\n",
    "### Power method\n",
    "To find the largest eigenvalue of a matrix A we can use the power method."
   ]
  },
  {
   "cell_type": "code",
   "execution_count": 4,
   "metadata": {},
   "outputs": [
    {
     "name": "stdout",
     "output_type": "stream",
     "text": [
      "[[128. -64.   0.   0.   0.   0.   0.   0.   0.]\n",
      " [-64. 128. -64.   0.   0.   0.   0.   0.   0.]\n",
      " [  0. -64. 128. -64.   0.   0.   0.   0.   0.]\n",
      " [  0.   0. -64. 128. -64.   0.   0.   0.   0.]\n",
      " [  0.   0.   0. -64. 128. -64.   0.   0.   0.]\n",
      " [  0.   0.   0.   0. -64. 128. -64.   0.   0.]\n",
      " [  0.   0.   0.   0.   0. -64. 128. -64.   0.]\n",
      " [  0.   0.   0.   0.   0.   0. -64. 128. -64.]\n",
      " [  0.   0.   0.   0.   0.   0.   0. -64. 128.]]\n"
     ]
    }
   ],
   "source": [
    "n = 9\n",
    "h = 1./(n - 1)\n",
    "\n",
    "x = linspace(0, 1, n)\n",
    "\n",
    "a = -ones((n-1,))\n",
    "b = 2 * ones((n,))\n",
    "A = diag(a, -1) + diag(b, 0) + diag(a, 1)\n",
    "A /= h**2\n",
    "print(A)"
   ]
  },
  {
   "cell_type": "code",
   "execution_count": 5,
   "metadata": {},
   "outputs": [],
   "source": [
    "z0 = zeros_like(x)"
   ]
  }
 ],
 "metadata": {
  "kernelspec": {
   "display_name": "numerical-analysis",
   "language": "python",
   "name": "python3"
  },
  "language_info": {
   "codemirror_mode": {
    "name": "ipython",
    "version": 3
   },
   "file_extension": ".py",
   "mimetype": "text/x-python",
   "name": "python",
   "nbconvert_exporter": "python",
   "pygments_lexer": "ipython3",
   "version": "3.9.18"
  }
 },
 "nbformat": 4,
 "nbformat_minor": 2
}
