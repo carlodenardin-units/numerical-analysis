{
 "cells": [
  {
   "cell_type": "code",
   "execution_count": 1,
   "metadata": {
    "metadata": {}
   },
   "outputs": [],
   "source": [
    "from numpy import *\n",
    "import pandas as pd"
   ]
  },
  {
   "cell_type": "code",
   "execution_count": 2,
   "metadata": {},
   "outputs": [],
   "source": [
    "n = 5\n",
    "h = 1./(n-1)\n",
    "\n",
    "x = linspace(0,1,n)\n",
    "\n",
    "a = -ones((n-1,))\n",
    "b = 2*ones((n))\n",
    "\n",
    "A = (1/h**2)*(diag(a,-1) + diag(b) + diag(a,+1))\n",
    "f = x*(1-x)\n",
    "\n",
    "A[0,:] = 0\n",
    "A[:,0] = 0\n",
    "A[0,0] = 1\n",
    "f[0] = 0\n",
    "\n",
    "A[-1,:] = 0\n",
    "A[:,-1] = 0\n",
    "A[-1,-1] = 1\n",
    "f[-1] = 0\n",
    "\n",
    "# exact solution\n",
    "u = linalg.solve(A, f)"
   ]
  },
  {
   "cell_type": "code",
   "execution_count": 3,
   "metadata": {},
   "outputs": [
    {
     "name": "stdout",
     "output_type": "stream",
     "text": [
      "64 8.485151767447388e-11\n",
      "2.328305987963865e-10\n"
     ]
    }
   ],
   "source": [
    "# Jacobi\n",
    "def jacobi(A, b, eps = 1e-10, max_iterations = 10000):\n",
    "\tN = len(A)\n",
    "\tx = zeros_like(b)\n",
    "\tx_old = zeros_like(b)\n",
    "\n",
    "\ttol = eps + 1\n",
    "\n",
    "\tit = 0\n",
    "\twhile (tol > eps and it < max_iterations):\n",
    "\t\tit += 1\n",
    "\t\t\n",
    "\t\tfor i in range(N):\n",
    "\t\t\tx[i] = (1 / A[i, i]) * (b[i] - dot(A[i, 0:i], x_old[0:i]) - dot(A[i, i + 1:N], x_old[i + 1:N]))\n",
    "\t\t\n",
    "\t\tres = b - dot(A, x)\n",
    "\t\ttol = linalg.norm(res, 2)\n",
    "\n",
    "\t\tx_old = x.copy()\n",
    "\t\t\n",
    "\tprint(it, tol)\n",
    "\treturn x\n",
    "\n",
    "jacobi_sol = jacobi(A, f)\n",
    "print(linalg.norm(jacobi_sol - u) / linalg.norm(u))"
   ]
  },
  {
   "cell_type": "code",
   "execution_count": null,
   "metadata": {},
   "outputs": [],
   "source": []
  }
 ],
 "metadata": {
  "kernelspec": {
   "display_name": "numerical-analysis",
   "language": "python",
   "name": "python3"
  },
  "language_info": {
   "codemirror_mode": {
    "name": "ipython",
    "version": 3
   },
   "file_extension": ".py",
   "mimetype": "text/x-python",
   "name": "python",
   "nbconvert_exporter": "python",
   "pygments_lexer": "ipython3",
   "version": "3.9.18"
  }
 },
 "nbformat": 4,
 "nbformat_minor": 2
}
